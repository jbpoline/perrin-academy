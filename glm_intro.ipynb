{
 "metadata": {
  "name": "",
  "signature": "sha256:7e89761e7403e9f0cb555d0f2a14fec7fba3373c536ba322f392da66771703e9"
 },
 "nbformat": 3,
 "nbformat_minor": 0,
 "worksheets": [
  {
   "cells": [
    {
     "cell_type": "markdown",
     "metadata": {},
     "source": [
      "# Introduction to the general linear model"
     ]
    },
    {
     "cell_type": "markdown",
     "metadata": {},
     "source": [
      "These are some notes on simple regression, multiple regression, and the general linear model.\n",
      "\n",
      "For more detail, see [The general linear model and fMRI: Does love last forever?](http://matthew.dynevor.org/_downloads/does_glm_love.pdf).\n",
      "\n",
      "This page starts by setting up a simple regression.  Then I will try to show how the simple regression gets expressed in a *design matrix*.  Once we have that, it's easy to extend simple regression to multiple regression.  By adding some specially formed regressors, we can also express group membership, and therefore do analysis of variance. This last step is where multiple regression becomes the general linear model."
     ]
    },
    {
     "cell_type": "markdown",
     "metadata": {},
     "source": [
      "## About this page"
     ]
    },
    {
     "cell_type": "markdown",
     "metadata": {},
     "source": [
      "We go through regression and the general linear model slowly, showing how it works in symbols, and in code, with actual numbers.\n",
      "\n",
      "For the calculations, we use Python and [numpy](http://www.numpy.org).  To show you some of the formulae in symbols, we use the [Sympy](http://www.sympy.org) Python library.  You'll find you don't have to follow the Sympy code snippets in any detail, they are only to show the formulae in a pretty way."
     ]
    },
    {
     "cell_type": "heading",
     "level": 2,
     "metadata": {},
     "source": [
      "The example regression problem"
     ]
    },
    {
     "cell_type": "markdown",
     "metadata": {},
     "source": [
      "Let's imagine that we have measured scores for a \"psychopathy\" personality trait in 12 students.  We also have some other information about these students.  For example, we measured how much sweat each student had on their palms, and we call this a \"clammy\" score.  We first try and work out whether the \"clammy\" score predicts the \"psychopathy\" score.  We'll do this with simple linear regression."
     ]
    },
    {
     "cell_type": "heading",
     "level": 2,
     "metadata": {},
     "source": [
      "Simple linear regression"
     ]
    },
    {
     "cell_type": "markdown",
     "metadata": {},
     "source": [
      "We first need to get our environment set up to run the code and plots we need."
     ]
    },
    {
     "cell_type": "code",
     "collapsed": false,
     "input": [
      "# Set up notebook to show data plots in the notebook\n",
      "%matplotlib inline"
     ],
     "language": "python",
     "metadata": {},
     "outputs": []
    },
    {
     "cell_type": "code",
     "collapsed": false,
     "input": [
      "# Import numerical and plotting libraries\n",
      "import numpy as np\n",
      "import numpy.linalg as npl\n",
      "import matplotlib.pyplot as plt"
     ],
     "language": "python",
     "metadata": {},
     "outputs": []
    },
    {
     "cell_type": "code",
     "collapsed": false,
     "input": [
      "# Get symbolic mathematics routines\n",
      "from sympy import (Matrix, Symbol, Eq, MatAdd, MatMul, ones,\n",
      "                   init_printing)\n",
      "# Set up notebook to output symbolic math expressions nicely\n",
      "init_printing(use_latex=True)"
     ],
     "language": "python",
     "metadata": {},
     "outputs": []
    },
    {
     "cell_type": "markdown",
     "metadata": {},
     "source": [
      "Here are our scores of \"psychopathy\" from the 12 students:"
     ]
    },
    {
     "cell_type": "code",
     "collapsed": false,
     "input": [
      "psychopathy = [11.416,   4.514,  12.204,  14.835,\n",
      "               8.416,   6.563,  17.343, 13.02,\n",
      "               15.19 ,  11.902,  22.721,  22.324]"
     ],
     "language": "python",
     "metadata": {},
     "outputs": []
    },
    {
     "cell_type": "markdown",
     "metadata": {},
     "source": [
      "These are the skin-conductance scores to get a measure of clamminess for the handshakes of each student:"
     ]
    },
    {
     "cell_type": "code",
     "collapsed": false,
     "input": [
      "clammy = [0.389,  0.2  ,  0.241,  0.463,\n",
      "          4.585,  1.097,  1.642,  4.972,\n",
      "          7.957,  5.585,  5.527,  6.964]"
     ],
     "language": "python",
     "metadata": {},
     "outputs": []
    },
    {
     "cell_type": "markdown",
     "metadata": {},
     "source": [
      "We happen to believe that there is some relationship between `clammy` and `psychopathy`.  Plotting them together we get:"
     ]
    },
    {
     "cell_type": "code",
     "collapsed": false,
     "input": [
      "plt.plot(clammy, psychopathy, '+')\n",
      "plt.xlabel('Clamminess of handshake')\n",
      "plt.ylabel('Psychopathy score')"
     ],
     "language": "python",
     "metadata": {},
     "outputs": []
    },
    {
     "cell_type": "markdown",
     "metadata": {},
     "source": [
      "It looks like there may be some sort of straight line relationship.  We could try guessing at a line to fit the data.  Let's try an intercept of $10$ and slope $0.9$:"
     ]
    },
    {
     "cell_type": "code",
     "collapsed": false,
     "input": [
      "# Plot the data\n",
      "plt.plot(clammy, psychopathy, '+')\n",
      "\n",
      "def my_line(x):\n",
      "    # My prediction for psychopathy given clamminess\n",
      "    return 10 + 0.9 * x\n",
      "\n",
      "# Plot the prediction\n",
      "x_vals = [0, max(clammy)]\n",
      "y_vals = [my_line(0), my_line(max(clammy))]\n",
      "plt.plot(x_vals, y_vals)\n",
      "plt.xlabel('Clamminess of handshake')\n",
      "plt.ylabel('Psychopathy score')\n",
      "plt.title('Clammy vs psychopathy with guessed line')"
     ],
     "language": "python",
     "metadata": {},
     "outputs": []
    },
    {
     "cell_type": "markdown",
     "metadata": {},
     "source": [
      "What does our straight line relationship mean?\n",
      "\n",
      "We are saying that the values of `psychopathy` can be partly predicted by a straight line of formula `10 + clammy * 0.9`."
     ]
    },
    {
     "cell_type": "markdown",
     "metadata": {},
     "source": [
      "$\\newcommand{\\yvec}{\\mathbf{y}} \\newcommand{\\xvec}{\\mathbf{x}} \\newcommand{\\evec}{\\boldsymbol \\varepsilon}$\n",
      "To make this more general, let's call our `psychopathy` data $\\yvec$ - a vector with 12 values, one for each student.  $y_1$ is the value for the first student (= 11.416) and $y_i$ is the value for student $i$ where $i \\in 1 .. 12$.\n",
      "\n",
      "Our `clammy` score is a predictor.  Lets call the clammy scores $\\xvec$ - another vector with 12 values. $x_1$ is the value for the first student (= 0.389) and $x_i$ is the value for student $i$ where $i \\in 1 .. 12$.\n",
      "\n",
      "Our straight line model says:\n",
      "\n",
      "$y_i \\approx c + bx_i$\n",
      "\n",
      "where $c$ is the intercept and $b$ is the slope.  For the guessed line above:\n",
      "\n",
      "$y_i \\approx 10 + 0.9 x_i$"
     ]
    },
    {
     "cell_type": "markdown",
     "metadata": {},
     "source": [
      "With the $\\approx$ above, we are accepting that we will not succeed in explaining all the variation in our psychopathy data.  We can rephrase this by saying that each observation is equal to the predicted value (from the formula above) plus some error for each observation:\n",
      "\n",
      "$y_i = c + bx_i + e_i$"
     ]
    },
    {
     "cell_type": "heading",
     "level": 2,
     "metadata": {},
     "source": [
      "Simple regression in matrix form"
     ]
    },
    {
     "cell_type": "markdown",
     "metadata": {},
     "source": [
      "It turns out it will be useful to rephrase the simple regression model in matrix form.  Let's make the data and predictor and errors into vectors.\n",
      "\n",
      "$\\mathbf{y}$ is the vector of values $y_1 ... y_{12}$.\n",
      "\n",
      "Here we use Sympy's `Matrix` object to show the vector nicely:"
     ]
    },
    {
     "cell_type": "code",
     "collapsed": false,
     "input": [
      "y = Matrix(psychopathy)\n",
      "y"
     ],
     "language": "python",
     "metadata": {},
     "outputs": []
    },
    {
     "cell_type": "markdown",
     "metadata": {},
     "source": [
      "$\\mathbf{x}$ is the vector of values $x_1 ... x_{12}$:"
     ]
    },
    {
     "cell_type": "code",
     "collapsed": false,
     "input": [
      "x = Matrix(clammy)\n",
      "x"
     ],
     "language": "python",
     "metadata": {},
     "outputs": []
    },
    {
     "cell_type": "markdown",
     "metadata": {},
     "source": [
      "$\\bf{e}$ is the vector of errors $e_1 ... e_{12}$:"
     ]
    },
    {
     "cell_type": "code",
     "collapsed": false,
     "input": [
      "epsilons = [Symbol('e_{0}'.format(i)) for i in range(1, 13)]\n",
      "epsilon = Matrix(epsilons)\n",
      "epsilon"
     ],
     "language": "python",
     "metadata": {},
     "outputs": []
    },
    {
     "cell_type": "markdown",
     "metadata": {},
     "source": [
      "Now we can rephrase our model as:\n",
      "\n",
      "$$\n",
      "\\yvec = c + b \\xvec + \\evec\n",
      "$$"
     ]
    },
    {
     "cell_type": "markdown",
     "metadata": {},
     "source": [
      "Bear with with us for a little trick. If $\\mathbf{o}$ is a vector of ones, then we can rewrite the formula as:\n",
      "\n",
      "$$\n",
      "\\yvec = c\\mathbf{o} + b\\xvec + \\bf{e}\n",
      "$$\n",
      "\n",
      "because $o_i = 1$ and so $co_i = c$."
     ]
    },
    {
     "cell_type": "code",
     "collapsed": false,
     "input": [
      "# Show the model in a pretty way using Sympy's symbols and printing\n",
      "c, b = Symbol('c'), Symbol('b')\n",
      "o = ones(12, 1)\n",
      "# Compile expression without any simplification or reordering\n",
      "rhs = MatAdd(MatMul(c, o, evaluate=False),\n",
      "             MatMul(b, x, evaluate=False),\n",
      "             epsilon)\n",
      "Eq(y, rhs)"
     ],
     "language": "python",
     "metadata": {},
     "outputs": []
    },
    {
     "cell_type": "markdown",
     "metadata": {},
     "source": [
      "$\\newcommand{Xmat}{\\boldsymbol X} \\newcommand{\\bvec}{\\boldsymbol \\beta}$\n",
      "We can now rephrase the calculation in terms of matrix multiplication.\n",
      "\n",
      "Call $\\Xmat$ the matrix of two columns, where the first column is the column of ones ($\\mathbf{o}$ above) and the second column is $\\xvec$.  Call $\\bvec$ the column vector:\n",
      "\n",
      "$$\n",
      "\\left[\n",
      "\\begin{array}{\\bvec}\n",
      "c \\\\\n",
      "b \\\\\n",
      "\\end{array}\n",
      "\\right]\n",
      "$$"
     ]
    },
    {
     "cell_type": "code",
     "collapsed": false,
     "input": [
      "# Sympy showing us the matrix multiplication formula\n",
      "X = o.row_join(x)\n",
      "B = Matrix([c, b])\n",
      "Eq(y, MatAdd(MatMul(X, B), epsilon))"
     ],
     "language": "python",
     "metadata": {},
     "outputs": []
    },
    {
     "cell_type": "markdown",
     "metadata": {},
     "source": [
      "In symbols:\n",
      "\n",
      "$$\n",
      "\\yvec = \\Xmat \\bf{B} + \\bf{e}\n",
      "$$"
     ]
    },
    {
     "cell_type": "markdown",
     "metadata": {},
     "source": [
      "We use the symbols $\\bf{B}$ and $\\bf{e}$ when we have given them some values (here, we estimated $\\bf{B}$ - albeit visually- and therefore $\\bf{e}$ because we gave B the values (10, .9).  We still haven't found our best fitting line.  But before we go further, it might be obvious that we can easily add a new predictor here."
     ]
    },
    {
     "cell_type": "markdown",
     "metadata": {},
     "source": [
      "If we have not estimated the parameters $\\bf{B}$, then we use the greek notations for the unknowns:\n",
      "\n",
      "\n",
      "$$\n",
      "\\yvec = \\Xmat \\bf{\\bvec} + \\bf{\\evec}\n",
      "$$"
     ]
    },
    {
     "cell_type": "heading",
     "level": 3,
     "metadata": {},
     "source": [
      "Multiple regression"
     ]
    },
    {
     "cell_type": "markdown",
     "metadata": {},
     "source": [
      "Let's say we think that psychopathy increases with age. We add the student's age as another predictor:"
     ]
    },
    {
     "cell_type": "code",
     "collapsed": false,
     "input": [
      "age = Matrix([22.5,  25.3,  24.6,  21.4,\n",
      "              20.7,  23.3,  23.8,  21.7,\n",
      "              21.3, 25.2,  24.6,  21.8])\n",
      "age"
     ],
     "language": "python",
     "metadata": {},
     "outputs": []
    },
    {
     "cell_type": "markdown",
     "metadata": {},
     "source": [
      "Now rename the `clammy` predictor vector from $\\xvec$ to $\\xvec_1$. Of course $\\xvec_1$ has 12 values $x_{1, 1}..x_{1, 12}$. Call the `age` predictor vector $\\xvec_2$.   Call the slope for `clammy` $b_1$ (slope for $\\xvec_1$).  Call the slope for age $b_2$ (slope for $\\xvec_2$). Our model is:\n",
      "\n",
      "$$y_i = c + b_1 x_{1, i} + b_2 x_{2, i} + e_i$$\n",
      "\n",
      "In this model $\\Xmat$ has three columns (ones, $\\xvec_1$, and $\\xvec_2$), and the $\\bvec$ vector has three values $c, b_1, b_2$.  This gives the same matrix formulation, with our new $\\Xmat$ and $\\bvec$: $\\yvec = \\Xmat \\bvec + \\evec$.\n",
      "\n",
      "This is a *linear* model because our model says that the data $y_i$ comes from the *sum* of some components ($c, b_1 x_{1, i}, b_2 x_{2, i}, e_i$)."
     ]
    },
    {
     "cell_type": "markdown",
     "metadata": {},
     "source": [
      "We can keep doing this by adding more and more regressors.  In general, a linear model with $p$ predictors looks like this:\n",
      "\n",
      "$$y_i = b_1 x_{1, i} + b_2 x_{2, i} + ... b_p x_{p, i} + e_i$$\n",
      "\n",
      "In the case of the models above, the first predictor $\\xvec_1$ would be a column of ones, to express the intercept in the model.\n",
      "\n",
      "Any model of the form above can still be phrased in the matrix form:\n",
      "\n",
      "$$\\yvec = \\Xmat \\bvec + \\evec$$"
     ]
    },
    {
     "cell_type": "markdown",
     "metadata": {},
     "source": [
      "## Population, sample, estimate"
     ]
    },
    {
     "cell_type": "markdown",
     "metadata": {},
     "source": [
      "$\\newcommand{\\bhat}{\\hat{\\bvec}} \\newcommand{\\yhat}{\\hat{\\yvec}}$\n",
      "Our students and their psychopathy scores are a *sample* from the population of all students' psychopathy scores.  The parameters $\\bvec$ are the parameters that fit the design $\\Xmat$ to the *population* scores.  We only have a sample from this population, so we cannot get the true population $\\bvec$ vector, we can only *estimate* $\\bvec$ from our sample.  We will write this sample estimate as $\\bhat$ or $\\bf{B}$ to distinguish it from the true population parameters $\\bvec$."
     ]
    },
    {
     "cell_type": "heading",
     "level": 2,
     "metadata": {},
     "source": [
      "Solving the model with matrix algebra"
     ]
    },
    {
     "cell_type": "markdown",
     "metadata": {},
     "source": [
      "The reason to formulate our problem with matrices is so we can use some basic matrix algebra to estimate the \"best\" line."
     ]
    },
    {
     "cell_type": "markdown",
     "metadata": {},
     "source": [
      "Let's assume that we want an estimate for the line parameters (intercept and slope) that gives the smallest \"distance\" between the estimated values (from predicted from the line), and the actual values (the data).\n",
      "\n",
      "We'll define 'distance' as the squared difference of the predicted value from the actual value.  These are the squared error terms $e_1^2, e_2^2 ... e_{n}^2$, where $n$ is the number of observations - 12 in our case."
     ]
    },
    {
     "cell_type": "markdown",
     "metadata": {},
     "source": [
      "Revising: our model is:\n",
      "\n",
      "$$\n",
      "\\yvec = \\Xmat \\bvec + \\evec\n",
      "$$\n",
      "\n",
      "Where $\\yvec$ is the data vector $y_1, y_2, ... y_n$, $\\Xmat$ is the design matrix of shape $n, p$, $\\bvec$ is the parameter vector, $b_1, b_2 ... b_p$, and $\\evec$ is the error vector giving errors for each observation $\\epsilon_1, \\epsilon_2 ... \\epsilon_n$.\n",
      "\n",
      "Each column of $\\Xmat$ is a regressor vector, so $\\Xmat$ can be thought of as the column concatenation of $p$ vectors $\\xvec_1, \\xvec_2 ... \\xvec_p$, where $\\xvec_1$ is the first regressor *vector*, and so on."
     ]
    },
    {
     "cell_type": "markdown",
     "metadata": {},
     "source": [
      "In our case, we want an estimate $\\bhat$ for the vector $\\bvec$ such that the errors $\\evec = \\yvec - \\Xmat \\bhat$ have the smallest sum of squares $\\sum_{i=1}^n{e_i^2}$.  $\\sum_{i=1}^n{e_i^2}$ is called the *residual sum of squares*.\n",
      "\n",
      "When we have our $\\bhat$ estimate, then the prediction of the data from the estimate is given by $\\Xmat \\bhat$.  \n",
      "\n",
      "We call this the predicted or estimated data, and write it as $\\yhat$.  The errors are then given by $\\yvec - \\yhat$. \n",
      "\n",
      "We might expect that, when we have found the right $\\bhat$ then the errors will have nothing in them that can still be explained by the design matrix $\\Xmat$.  This is the same as saying that, when we have best prediction of the data ($\\yhat = \\Xmat \\bhat$), the design matrix $\\Xmat$ should be orthogonal to the remaining error ($\\yvec - \\yhat$). If the design is orthogonal to the errors, then $\\Xmat^T \\evec$ should be a vector of zeros.\n",
      "\n",
      "If that is the case then we can multiply $\\yvec = \\Xmat \\bhat + \\evec$ through by $\\Xmat^T$:\n",
      "\n",
      "$$\n",
      "\\Xmat^T \\yvec = \\Xmat^T \\Xmat \\bhat + \\Xmat^T \\evec\n",
      "$$\n",
      "\n",
      "The last term now disappears because it is zero and:\n",
      "\n",
      "$$\n",
      "\\Xmat^T \\yvec = \\Xmat^T \\Xmat \\bhat\n",
      "$$\n",
      "\n",
      "If $\\Xmat^T \\Xmat$ is invertible (has a matrix inverse $(\\Xmat^T \\Xmat)^{-1}$) then there is a unique solution:\n",
      "\n",
      "$$\n",
      "\\bhat = (\\Xmat^T \\Xmat)^{-1} \\Xmat \\yvec\n",
      "$$\n",
      "\n",
      "It turns out that, if $\\Xmat^T \\Xmat$ is not invertible, there are an infinite number of solutions, and we have to choose one solution, taking into account that the parameters $\\bhat$ will depend on which solution we chose.  The *pseudoinverse* operator gives us one particular solution.  If $\\bf{A}^-$ is the pseudoinverse of matrix $\\bf{A}$ then the general solution for $\\bhat$, even when $\\Xmat^T \\Xmat$ is not invertible, is:\n",
      "\n",
      "$$\n",
      "\\bhat = \\Xmat^-y\n",
      "$$"
     ]
    },
    {
     "cell_type": "markdown",
     "metadata": {},
     "source": [
      "Using this matrix algebra, what line do we estimate for `psychopathy` and `clammy`?"
     ]
    },
    {
     "cell_type": "code",
     "collapsed": false,
     "input": [
      "X = np.column_stack((np.ones(12), clammy))\n",
      "X"
     ],
     "language": "python",
     "metadata": {},
     "outputs": []
    },
    {
     "cell_type": "code",
     "collapsed": false,
     "input": [
      "# Use the pseudoinverse to get estimated B\n",
      "B = npl.pinv(X).dot(psychopathy)\n",
      "B"
     ],
     "language": "python",
     "metadata": {},
     "outputs": []
    },
    {
     "cell_type": "code",
     "collapsed": false,
     "input": [
      "# Plot the data\n",
      "plt.plot(clammy, psychopathy, '+')\n",
      "\n",
      "def my_best_line(x):\n",
      "    # Best prediction for psychopathy given clamminess\n",
      "    return B[0] + B[1] * x\n",
      "\n",
      "# Plot the new prediction\n",
      "x_vals = [0, max(clammy)]\n",
      "y_vals = [my_best_line(0), my_best_line(max(clammy))]\n",
      "plt.plot(x_vals, y_vals)\n",
      "plt.xlabel('Clamminess of handshake')\n",
      "plt.ylabel('Psychopathy score')"
     ],
     "language": "python",
     "metadata": {},
     "outputs": []
    },
    {
     "cell_type": "markdown",
     "metadata": {},
     "source": [
      "Our claim was that this estimate for slope and intercept minimize the sum of squared error:"
     ]
    },
    {
     "cell_type": "code",
     "collapsed": false,
     "input": [
      "fitted = X.dot(B)\n",
      "errors = psychopathy - fitted\n",
      "np.sum(errors ** 2)"
     ],
     "language": "python",
     "metadata": {},
     "outputs": []
    },
    {
     "cell_type": "markdown",
     "metadata": {},
     "source": [
      "Is this sum of squared errors smaller than our earlier guess of an intercept of 10 and a slope of 0.9?"
     ]
    },
    {
     "cell_type": "code",
     "collapsed": false,
     "input": [
      "fitted = X.dot([10, 0.9])\n",
      "errors = psychopathy - fitted\n",
      "np.sum(errors **2)"
     ],
     "language": "python",
     "metadata": {},
     "outputs": []
    },
    {
     "cell_type": "heading",
     "level": 2,
     "metadata": {},
     "source": [
      "Contrasts"
     ]
    },
    {
     "cell_type": "markdown",
     "metadata": {},
     "source": [
      "$\\newcommand{cvec}{\\mathbf{c}}$\n",
      "We can combine the values in the $\\bhat$ vector in different ways by using a *contrast* vector.  A contrast vector $\\cvec$ is a vector of weights $c_1, c_2 ... c_p$ for each value in the $\\bhat$ vector.  Assume that all vectors we've defined up until now are column vectors.  Then a scalar value that is a linear combination of the $\\bhat$ values can be written:\n",
      "\n",
      "$$\n",
      "\\cvec^T \\bhat\n",
      "$$\n",
      "\n",
      "We now return to our original question, whether clamminess of handshake predicts psychopathy score.\n",
      "\n",
      "If clamminess does predict psychopathy, then we would expect the slope of the best fit line between `clammy` and `psychopathy` would be different from zero.\n",
      "\n",
      "In our model, we have two predictors, the column of ones and `clammy`.  $p = 2$ and $\\bhat$ is length 2.  We could choose just the second of the values in $\\bhat$ (therefore $b_1$ if $b_0$ is the first value) with a contrast:\n",
      "\n",
      "$$\n",
      "\\left[\n",
      "\\begin{array}{\\cvec}\n",
      "0 \\\\\n",
      "1 \\\\\n",
      "\\end{array}\n",
      "\\right]\n",
      "$$\n",
      "\n",
      "$\\cvec^T \\bhat$ with this contrast gives our *estimate* of the slope relating `clammy` to `psychopathy`.  Now we might be interested if our estimate is further from zero than expected by chance."
     ]
    },
    {
     "cell_type": "markdown",
     "metadata": {},
     "source": [
      "To test whether the estimate is different from zero, we can divide the estimate by the variability of the estimate.  This gives us an idea of how far the estimate is from zero, in terms of the variability of the estimate.  We won't go into the estimate of the variability here though, we'll just assume it (the formula is in the code below). The estimate divided by the variability of the estimate gives us a t statistic."
     ]
    },
    {
     "cell_type": "markdown",
     "metadata": {},
     "source": [
      "With that introduction, here's how to do the estimation and a t statistic given the data $\\yvec$, the design $\\Xmat$, and a contrast vector $\\cvec$."
     ]
    },
    {
     "cell_type": "code",
     "collapsed": false,
     "input": [
      "# Get t distribution code from scipy library\n",
      "from scipy.stats import t as t_dist\n",
      "\n",
      "def t_stat(y, X, c):\n",
      "    \"\"\" betas, t statistic and significance test given data, design matrix, contrast\n",
      "    \n",
      "    This is OLS estimation; we assume the errors to have independent\n",
      "    and identical normal distributions around zero for each $i$ in \n",
      "    $\\epsilon_i$ (i.i.d).\n",
      "    \"\"\"\n",
      "    # Make sure X, Y, C are all arrays\n",
      "    y = np.asarray(y)\n",
      "    X = np.asarray(X)\n",
      "    c = np.atleast_2d(c).T  # As column vector\n",
      "    # Calculate the parameters\n",
      "    beta = npl.pinv(X).dot(y)\n",
      "    # The fitted values - y hat\n",
      "    fitted = X.dot(beta)\n",
      "    # Residual error\n",
      "    errors = y - fitted\n",
      "    # Residual sum of squares\n",
      "    RSS   = (errors**2).sum(axis=0)\n",
      "    # Degrees of freedom is the number of observations n minus the number\n",
      "    # of independent regressors we have used.  If all the regressor columns\n",
      "    # in X are independent then the (matrix rank of X) == p\n",
      "    # (where p the number of columns in X). If there is one column that can\n",
      "    # expressed as a linear sum of the other columns then (matrix rank of X)\n",
      "    # will be p - 1 - and so on.\n",
      "    df =  X.shape[0] - npl.matrix_rank(X)\n",
      "    # Mean residual sum of squares\n",
      "    MRSS  = RSS / df\n",
      "    # calculate bottom half of t statistic\n",
      "    SE    = np.sqrt(MRSS * c.T.dot(npl.pinv(X.T.dot(X)).dot(c)))\n",
      "    t     = c.T.dot(beta) / SE\n",
      "    # Get p value for t value using t distribution function\n",
      "    ltp   = t_dist.cdf(t, df) # lower tail p\n",
      "    p = 1 - ltp # upper tail p\n",
      "    return beta, t, df, p"
     ],
     "language": "python",
     "metadata": {},
     "outputs": []
    },
    {
     "cell_type": "markdown",
     "metadata": {},
     "source": [
      "So, does `clammy` predict `psychopathy`?  If it does not, then our estimate of the slope will not be convincingly different from 0.  The t test divides our estimate of the slope by the error in the estimate; large values mean that the slope is large compared to the error in the estimate."
     ]
    },
    {
     "cell_type": "code",
     "collapsed": false,
     "input": [
      "X = np.column_stack((np.ones(12), clammy))\n",
      "Y = np.asarray(psychopathy)\n",
      "B, t, df, p = t_stat(Y, X, [0, 1])\n",
      "t, p"
     ],
     "language": "python",
     "metadata": {},
     "outputs": []
    },
    {
     "cell_type": "heading",
     "level": 2,
     "metadata": {},
     "source": [
      "Dummy coding and the general linear model"
     ]
    },
    {
     "cell_type": "markdown",
     "metadata": {},
     "source": [
      "So far we have been doing *multiple regression*.  That is, all the columns (except the column of ones) are continuous vectors of numbers predicting our outcome data `psychopathy`.  These type of predictors are often called *covariates*.\n",
      "\n",
      "It turns out we can use this same framework to express the fact that different observations come from different groups.\n",
      "\n",
      "Expressing group membership in this way allows us to express *analysis of variance* designs using this same notation.\n",
      "\n",
      "To do this, we use columns of *dummy variables*."
     ]
    },
    {
     "cell_type": "markdown",
     "metadata": {},
     "source": [
      "Let's say we get some new and interesting information.  The first 4 students come from Berkeley, the second set of 4 come from Stanford, and the last set of 4 come from MIT.  Maybe the student's college predicts if they are a psychopath?"
     ]
    },
    {
     "cell_type": "markdown",
     "metadata": {},
     "source": [
      "How do we express this information? Let's forget about the clamminess score for now and just use the school information.  Our model might be that we can best predict the psychopathy scores by approximating the individual student psychopathy scores with a mean score for the relevant school:"
     ]
    },
    {
     "cell_type": "markdown",
     "metadata": {},
     "source": [
      "$$\n",
      "y_i = \\mu_{Berkeley} + e_i  \\space\\mbox{if}\\space 1 \\le i \\le 4\n",
      "$$\n",
      "\n",
      "$$\n",
      "y_i = \\mu_{Stanford} + e_i \\space\\mbox{if}\\space 5 \\le i \\le 8\n",
      "$$\n",
      "\n",
      "$$\n",
      "y_i = \\mu_{MIT} + e_i \\space\\mbox{if}\\space 9 \\le i \\le 12\n",
      "$$"
     ]
    },
    {
     "cell_type": "markdown",
     "metadata": {},
     "source": [
      "We can code this with predictors in our design using *indicator variables*.  The \"Berkeley\" indicator variable vector is 1 when the student is from Berkeley and zero otherwise.  Similarly for the other two schools:"
     ]
    },
    {
     "cell_type": "code",
     "collapsed": false,
     "input": [
      "berkeley_indicator = [1, 1, 1, 1, 0, 0, 0, 0, 0, 0, 0, 0]\n",
      "stanford_indicator = [0, 0, 0, 0, 1, 1, 1, 1, 0, 0, 0, 0]\n",
      "mit_indicator      = [0, 0, 0, 0, 0, 0, 0, 0, 1, 1, 1, 1]\n",
      "X = np.column_stack((berkeley_indicator,\n",
      "                     stanford_indicator,\n",
      "                     mit_indicator))\n",
      "# Show the matrix nicely with LaTeX markup\n",
      "Matrix(X)"
     ],
     "language": "python",
     "metadata": {},
     "outputs": []
    },
    {
     "cell_type": "markdown",
     "metadata": {},
     "source": [
      "These indicator columns are *dummy variables* where the values code for the group membership."
     ]
    },
    {
     "cell_type": "markdown",
     "metadata": {},
     "source": [
      "Now the $\\bvec$ vector will be:\n",
      "\n",
      "$$\n",
      "\\left[\n",
      "\\begin{array}{\\bvec}\n",
      "\\mu_{Berkeley} \\\\\n",
      "\\mu_{Stanford} \\\\\n",
      "\\mu_{MIT} \\\\\n",
      "\\end{array}\n",
      "\\right]\n",
      "$$"
     ]
    },
    {
     "cell_type": "markdown",
     "metadata": {},
     "source": [
      "When we estimate these using the least squares method, what estimates will we get for $\\bhat$?"
     ]
    },
    {
     "cell_type": "code",
     "collapsed": false,
     "input": [
      "B = npl.pinv(X).dot(psychopathy)\n",
      "B"
     ],
     "language": "python",
     "metadata": {},
     "outputs": []
    },
    {
     "cell_type": "code",
     "collapsed": false,
     "input": [
      "print(np.mean(psychopathy[:4]))\n",
      "print(np.mean(psychopathy[4:8]))\n",
      "print(np.mean(psychopathy[8:]))"
     ],
     "language": "python",
     "metadata": {},
     "outputs": []
    },
    {
     "cell_type": "markdown",
     "metadata": {},
     "source": [
      "It looks like the MIT students are a bit more psychopathic.  Are they more psychopathic than Berkeley and Stanford?\n",
      "\n",
      "We can use a contrast to test whether the mean for the MIT students is greater than the mean of (mean for Berkeley, mean for Stanford):"
     ]
    },
    {
     "cell_type": "code",
     "collapsed": false,
     "input": [
      "B, t, df, p = t_stat(psychopathy, X, [-0.5, -0.5, 1])\n",
      "t, p"
     ],
     "language": "python",
     "metadata": {},
     "outputs": []
    },
    {
     "cell_type": "markdown",
     "metadata": {},
     "source": [
      "Ah - yes - just as we suspected."
     ]
    },
    {
     "cell_type": "markdown",
     "metadata": {},
     "source": [
      "The model above expresses the effect of group membership. It is the expression of a one-way analysis of variance (ANOVA) model using $\\yvec = \\Xmat \\bvec + \\evec$."
     ]
    },
    {
     "cell_type": "heading",
     "level": 2,
     "metadata": {},
     "source": [
      "ANCOVA in the General Linear Model"
     ]
    },
    {
     "cell_type": "markdown",
     "metadata": {},
     "source": [
      "Our formulation $\\yvec = \\Xmat \\bvec + \\evec$ makes it very easy to add extra regressors to models with group membership.  For example, we can easily make a simple ANCOVA model (analysis of covariance)."
     ]
    },
    {
     "cell_type": "markdown",
     "metadata": {},
     "source": [
      "ANCOVA is a specific term for the case where we have a model with both group membership (ANOVA model) and one or more continuous covariates. \n",
      "\n",
      "For example, we can add back our clamminess score to the mix.  Does it explain anything once we know which school the student is at?"
     ]
    },
    {
     "cell_type": "code",
     "collapsed": false,
     "input": [
      "X = np.column_stack((berkeley_indicator,\n",
      "                     stanford_indicator,\n",
      "                     mit_indicator,\n",
      "                     clammy))\n",
      "X"
     ],
     "language": "python",
     "metadata": {},
     "outputs": []
    },
    {
     "cell_type": "markdown",
     "metadata": {},
     "source": [
      "We test the independent effect of the clamminess score with a contrast on the clammy slope parameter:"
     ]
    },
    {
     "cell_type": "code",
     "collapsed": false,
     "input": [
      "B, t, df, p = t_stat(psychopathy, X, [0, 0, 0, 1])\n",
      "t, p"
     ],
     "language": "python",
     "metadata": {},
     "outputs": []
    },
    {
     "cell_type": "markdown",
     "metadata": {},
     "source": [
      "It looks like there's not much independent effect of clamminess. The MIT students seem to have clammy hands, and once we know that the student is from MIT, the clammy score is not as useful."
     ]
    },
    {
     "cell_type": "heading",
     "level": 2,
     "metadata": {},
     "source": [
      "Displaying the design matrix as an image"
     ]
    },
    {
     "cell_type": "markdown",
     "metadata": {},
     "source": [
      "We can show the design as an image, by scaling the values with columns.\n",
      "\n",
      "We scale within columns because we care more about seeing variation within the regressor than between regressors.  For example, if we have a regressor varying between 0 and 1, and another between 0 and 1000, without scaling, the column with the larger numbers will swamp the variation in the column with the smaller numbers."
     ]
    },
    {
     "cell_type": "code",
     "collapsed": false,
     "input": [
      "def scale_design_mtx(X):\n",
      "    \"\"\"utility to scale the design matrix for display\n",
      "\n",
      "    This scales the columns to their own range so we can see the variations \n",
      "    across the column for all the columns, regardless of the scaling of the \n",
      "    column.\n",
      "    \"\"\"\n",
      "    mi, ma = X.min(axis=0), X.max(axis=0)\n",
      "    # Vector that is True for columns where values are not\n",
      "    # all almost equal to each other\n",
      "    col_neq = (ma - mi) > 1.e-8\n",
      "    Xs = np.ones_like(X)\n",
      "    # Leave columns with same value throughout with 1s\n",
      "    # Scale other columns to min, max in column\n",
      "    mi = mi[col_neq]\n",
      "    ma = ma[col_neq]\n",
      "    Xs[:,col_neq] = (X[:,col_neq] - mi)/(ma - mi)\n",
      "    return Xs"
     ],
     "language": "python",
     "metadata": {},
     "outputs": []
    },
    {
     "cell_type": "markdown",
     "metadata": {},
     "source": [
      "Then we can display this scaled design with a title and some default image display parameters:"
     ]
    },
    {
     "cell_type": "code",
     "collapsed": false,
     "input": [
      "def show_design(X, design_title):\n",
      "    \"\"\" Show the design matrix nicely \"\"\"\n",
      "    plt.imshow(scale_design_mtx(X),\n",
      "               interpolation='nearest',\n",
      "               cmap='gray') # Gray colormap\n",
      "    plt.title(design_title)"
     ],
     "language": "python",
     "metadata": {},
     "outputs": []
    },
    {
     "cell_type": "markdown",
     "metadata": {},
     "source": [
      "We can then see our ANCOVA design above at a glance:"
     ]
    },
    {
     "cell_type": "code",
     "collapsed": false,
     "input": [
      "show_design(X, 'ANCOVA')"
     ],
     "language": "python",
     "metadata": {},
     "outputs": []
    },
    {
     "cell_type": "code",
     "collapsed": false,
     "input": [],
     "language": "python",
     "metadata": {},
     "outputs": []
    }
   ],
   "metadata": {}
  }
 ]
}